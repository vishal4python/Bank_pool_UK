{
 "cells": [
  {
   "cell_type": "code",
   "execution_count": 1,
   "metadata": {},
   "outputs": [],
   "source": [
    "import glob\n",
    "import os\n",
    "import pandas as pd\n",
    "import numpy as np\n",
    "import datetime\n",
    "import warnings\n",
    "from maks_lib import output_path\n",
    "from maks_lib import input_path\n",
    "warnings.simplefilter(action='ignore')\n",
    "now = datetime.datetime.now()\n",
    "\n",
    "extension = 'csv'"
   ]
  },
  {
   "cell_type": "code",
   "execution_count": 2,
   "metadata": {},
   "outputs": [],
   "source": [
    "all_files = glob.glob(output_path+'*.{}'.format(extension))\n",
    "all_mortage_files  = [file for file in all_files if file.split(\"\\\\\")[-1].startswith(\"Cons\") and \"Mortgage\" in file.split(\"\\\\\")[-1]]\n",
    "all_deposite_files = [file for file in all_files if file.split(\"\\\\\")[-1].startswith(\"Cons\") and file not in all_mortage_files]"
   ]
  },
  {
   "cell_type": "code",
   "execution_count": 3,
   "metadata": {},
   "outputs": [],
   "source": [
    "COLUMN_NAMES = ['Date', 'Bank_Native_Country', 'State', 'Bank_Name',\n",
    "       'Bank_Local_Currency', 'Bank_Type', 'Bank_Product', 'Bank_Product_Type',\n",
    "       'Bank_Product_Name', 'Min_Loan_Amount', 'Bank_Offer_Feature',\n",
    "       'Term (Y)', 'Interest_Type', 'Interest', 'APRC', 'Mortgage_Loan_Amt',\n",
    "       'Mortgage_Down_Payment', 'Mortgage_Category', 'Mortgage_Reason',\n",
    "       'Mortgage_Pymt_Mode', 'Fixed_Rate_Term', 'Bank_Product_Code']"
   ]
  },
  {
   "cell_type": "code",
   "execution_count": 4,
   "metadata": {},
   "outputs": [],
   "source": [
    "df_mortgage = pd.DataFrame(columns=COLUMN_NAMES) "
   ]
  },
  {
   "cell_type": "code",
   "execution_count": 5,
   "metadata": {},
   "outputs": [
    {
     "name": "stdout",
     "output_type": "stream",
     "text": [
      "C:\\Users\\Deepak.BAN-LBMQ24M2\\Desktop\\TODAY UK\\pool_UK-master\\pool_UK-master\\data\\output\\Consolidate_ CoOp_Data_Mortgage2018_03_19.csv\n",
      "22\n",
      "C:\\Users\\Deepak.BAN-LBMQ24M2\\Desktop\\TODAY UK\\pool_UK-master\\pool_UK-master\\data\\output\\Consolidate_BankofIreland_Data_Mortgage_03_19_2018.csv\n",
      "22\n",
      "C:\\Users\\Deepak.BAN-LBMQ24M2\\Desktop\\TODAY UK\\pool_UK-master\\pool_UK-master\\data\\output\\Consolidate_Cledesdale_Bank_Data_Mortgage_03_19_2018.csv\n",
      "22\n",
      "C:\\Users\\Deepak.BAN-LBMQ24M2\\Desktop\\TODAY UK\\pool_UK-master\\pool_UK-master\\data\\output\\Consolidate_Halifax_Data_Mortgage_03_19_2018.csv\n",
      "22\n",
      "C:\\Users\\Deepak.BAN-LBMQ24M2\\Desktop\\TODAY UK\\pool_UK-master\\pool_UK-master\\data\\output\\Consolidate_Lloyds_Mortgage_03_19_2018.csv\n",
      "22\n",
      "C:\\Users\\Deepak.BAN-LBMQ24M2\\Desktop\\TODAY UK\\pool_UK-master\\pool_UK-master\\data\\output\\Consolidate_MetroBank_Data_Mortgage_03_19_2018.csv\n",
      "22\n",
      "C:\\Users\\Deepak.BAN-LBMQ24M2\\Desktop\\TODAY UK\\pool_UK-master\\pool_UK-master\\data\\output\\Consolidate_Natwest_Data_Mortgage_2018_03_19.csv\n",
      "22\n",
      "C:\\Users\\Deepak.BAN-LBMQ24M2\\Desktop\\TODAY UK\\pool_UK-master\\pool_UK-master\\data\\output\\Consolidate_RBS_Data_Mortgage_2018_03_19.csv\n",
      "22\n",
      "C:\\Users\\Deepak.BAN-LBMQ24M2\\Desktop\\TODAY UK\\pool_UK-master\\pool_UK-master\\data\\output\\Consolidate_SantanderBank_Data_Mortgage_03_19_2018.csv\n",
      "22\n",
      "C:\\Users\\Deepak.BAN-LBMQ24M2\\Desktop\\TODAY UK\\pool_UK-master\\pool_UK-master\\data\\output\\Consolidate_Virgin_Data_Mortgage_2018_03_19.csv\n",
      "22\n"
     ]
    }
   ],
   "source": [
    "for idx, file in enumerate(all_mortage_files):\n",
    "    print(file)\n",
    "    print(pd.read_csv(all_mortage_files[idx]).shape[1])"
   ]
  },
  {
   "cell_type": "code",
   "execution_count": 6,
   "metadata": {},
   "outputs": [],
   "source": [
    "for file in all_mortage_files:\n",
    "    df_temp =pd.read_csv(file)\n",
    "    df_temp.columns = COLUMN_NAMES\n",
    "    df_mortgage = pd.concat([df_mortgage, df_temp])"
   ]
  },
  {
   "cell_type": "code",
   "execution_count": 7,
   "metadata": {},
   "outputs": [],
   "source": [
    "df_mortgage['Date'] = \" {}\".format(now.strftime(\"%Y-%m-%d\"))\n",
    "df_ticker = pd.read_csv(input_path+\"Bank_Ticker_UK.csv\")\n",
    "result = pd.merge(df_mortgage, df_ticker, how='left', on='Bank_Name')"
   ]
  },
  {
   "cell_type": "code",
   "execution_count": 8,
   "metadata": {},
   "outputs": [],
   "source": [
    "arranged_cols = ['Date', 'Bank_Native_Country', 'State', 'Bank_Name','Ticker',\n",
    "       'Bank_Local_Currency', 'Bank_Type', 'Bank_Product', 'Bank_Product_Type','Bank_Product_Code',\n",
    "       'Bank_Product_Name', 'Min_Loan_Amount', 'Bank_Offer_Feature',\n",
    "       'Term (Y)', 'Interest_Type', 'Interest', 'APRC', 'Mortgage_Loan_Amt',\n",
    "       'Mortgage_Down_Payment', 'Mortgage_Category', 'Mortgage_Reason',\n",
    "       'Mortgage_Pymt_Mode', 'Fixed_Rate_Term']\n",
    "df_mortgage = result.reindex(columns= arranged_cols)"
   ]
  },
  {
   "cell_type": "code",
   "execution_count": 9,
   "metadata": {},
   "outputs": [],
   "source": [
    "for idx in range(len(df_mortgage.index)):\n",
    "    try:\n",
    "        t = int(df_mortgage['Term (Y)'].iloc[idx])\n",
    "    except ValueError:\n",
    "        t = \"_\"\n",
    "    try:\n",
    "        int_type = df_mortgage['Interest_Type'].iloc[idx][0]\n",
    "    except TypeError:\n",
    "        int_type = \"_\"\n",
    "    df_mortgage['Bank_Product_Code'].iloc[idx] = \"{0}{1}{2}{3}\".format(t,\"Y\", \"M\",int_type )"
   ]
  },
  {
   "cell_type": "code",
   "execution_count": 10,
   "metadata": {},
   "outputs": [],
   "source": [
    "df_mortgage[\"Min_Loan_Amount\"] = df_mortgage[\"Min_Loan_Amount\"].str.replace(\",\",\"\")"
   ]
  },
  {
   "cell_type": "code",
   "execution_count": 14,
   "metadata": {},
   "outputs": [],
   "source": [
    "for idx in range(len(df_mortgage.index)):\n",
    "    if df_mortgage['Mortgage_Down_Payment'].iloc[idx] ==  df_mortgage['Fixed_Rate_Term'].iloc[idx]:\n",
    "         df_mortgage['Interest_Type'].iloc[idx] = \"Fixed\"\n",
    "    else:\n",
    "         df_mortgage['Interest_Type'].iloc[idx] = \"Variable\""
   ]
  },
  {
   "cell_type": "code",
   "execution_count": 13,
   "metadata": {},
   "outputs": [],
   "source": [
    "df_mortgage.to_csv(output_path+\"UK\\\\\" + \"UK_Mortgage_Data_{}.csv\".format(now.strftime(\"%m_%d_%Y\")), index=False )"
   ]
  },
  {
   "cell_type": "code",
   "execution_count": null,
   "metadata": {},
   "outputs": [],
   "source": []
  }
 ],
 "metadata": {
  "kernelspec": {
   "display_name": "Python 3",
   "language": "python",
   "name": "python3"
  },
  "language_info": {
   "codemirror_mode": {
    "name": "ipython",
    "version": 3
   },
   "file_extension": ".py",
   "mimetype": "text/x-python",
   "name": "python",
   "nbconvert_exporter": "python",
   "pygments_lexer": "ipython3",
   "version": "3.6.4"
  }
 },
 "nbformat": 4,
 "nbformat_minor": 2
}
