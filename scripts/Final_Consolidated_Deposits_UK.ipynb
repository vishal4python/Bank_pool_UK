{
 "cells": [
  {
   "cell_type": "code",
   "execution_count": 33,
   "metadata": {},
   "outputs": [
    {
     "name": "stdout",
     "output_type": "stream",
     "text": [
      "C:\\Users\\Deepak.BAN-LBMQ24M2\\Desktop\\TODAY UK\\pool_UK-master\\data\\output\\Consolidate_Bank_of_Scotland_Data_Deposit_03_19_2018-DONE.csv\n",
      "16\n",
      "C:\\Users\\Deepak.BAN-LBMQ24M2\\Desktop\\TODAY UK\\pool_UK-master\\data\\output\\Consolidate_Halifax_Data_Deposit_03_19_2018-DONE.csv\n",
      "16\n",
      "C:\\Users\\Deepak.BAN-LBMQ24M2\\Desktop\\TODAY UK\\pool_UK-master\\data\\output\\Consolidate_RBS_Data_Deposits_2018_03_19-DONE.csv\n",
      "16\n",
      "C:\\Users\\Deepak.BAN-LBMQ24M2\\Desktop\\TODAY UK\\pool_UK-master\\data\\output\\Consolidate_Virgin_Data_Deposit_2018_03_19-DONE.csv\n",
      "16\n"
     ]
    }
   ],
   "source": [
    "import glob\n",
    "import os\n",
    "import pandas as pd\n",
    "import numpy as np\n",
    "import datetime\n",
    "import re\n",
    "import warnings\n",
    "from maks_lib import output_path\n",
    "from maks_lib import input_path\n",
    "warnings.simplefilter(action='ignore')\n",
    "now = datetime.datetime.now()\n",
    "\n",
    "extension = 'csv'\n",
    "\n",
    "all_files = glob.glob(output_path+'*.{}'.format(extension))\n",
    "all_mortage_files  = [file for file in all_files if file.split(\"\\\\\")[-1].startswith(\"Cons\") and \"Mortgage\" in file.split(\"\\\\\")[-1]]\n",
    "all_deposite_files = [file for file in all_files if file.split(\"\\\\\")[-1].startswith(\"Cons\") and file not in all_mortage_files]\n",
    "\n",
    "deposite_cols =['Date', 'Bank_Native_Country', 'State', 'Bank_Name',\n",
    "       'Bank_Local_Currency', 'Bank_Type', 'Bank_Product', 'Bank_Product_Type',\n",
    "       'Bank_Product_Name', 'Balance', 'Bank_Offer_Feature',\n",
    "       'Term in Months', 'Interest_Type', 'Interest', 'AER','Bank_Product_Code']\n",
    "df_deposit = pd.DataFrame(columns=deposite_cols)\n",
    "\n",
    "for idx, file in enumerate(all_deposite_files):\n",
    "    print(file)\n",
    "    print(pd.read_csv(all_deposite_files[idx]).shape[1])\n",
    "    \n"
   ]
  },
  {
   "cell_type": "code",
   "execution_count": 34,
   "metadata": {},
   "outputs": [],
   "source": [
    "for file in all_deposite_files:\n",
    "    df_temp =pd.read_csv(file)\n",
    "    df_temp.columns = ['Date', 'Bank_Native_Country', 'State', 'Bank_Name',\n",
    "       'Bank_Local_Currency', 'Bank_Type', 'Bank_Product', 'Bank_Product_Type',\n",
    "       'Bank_Product_Name', 'Balance', 'Bank_Offer_Feature',\n",
    "       'Term in Months', 'Interest_Type', 'Interest', 'AER','Bank_Product_Code']\n",
    "    df_deposit = pd.concat([df_deposit, df_temp])"
   ]
  },
  {
   "cell_type": "code",
   "execution_count": 35,
   "metadata": {},
   "outputs": [],
   "source": [
    "df_deposit['Date'] = \" {}\".format(now.strftime(\"%Y-%m-%d\"))\n",
    "df_deposit['Minm_Balance'] = np.NAN\n",
    "df_deposit['Maxm_Balance'] = np.NAN"
   ]
  },
  {
   "cell_type": "code",
   "execution_count": 37,
   "metadata": {},
   "outputs": [],
   "source": [
    "for idx in range(len(df_deposit.index)):\n",
    "    if \"Below\" in str(df_deposit['Balance'].iloc[idx]) or \"or less\" in str(df_deposit['Balance'].iloc[idx]) or \"Less than\" in str(df_deposit['Balance'].iloc[idx]) or \"less than\" in str(df_deposit['Balance'].iloc[idx]) or \"Up to\" in str(df_deposit['Balance'].iloc[idx]):\n",
    "        df_deposit['Maxm_Balance'].iloc[idx] = df_deposit['Balance'].iloc[idx]\n",
    "    elif \"-\" in str(df_deposit['Balance'].iloc[idx]):\n",
    "        df_deposit['Minm_Balance'].iloc[idx], df_deposit['Maxm_Balance'].iloc[idx] = str(df_deposit['Balance'].iloc[idx]).split(\"-\")\n",
    "    elif \" to \" in str(df_deposit['Balance'].iloc[idx]):\n",
    "        df_deposit['Minm_Balance'].iloc[idx], df_deposit['Maxm_Balance'].iloc[idx] = str(df_deposit['Balance'].iloc[idx]).split(\"to\")\n",
    "    else:\n",
    "        df_deposit['Minm_Balance'].iloc[idx] = df_deposit['Balance'].iloc[idx]\n",
    "\n",
    "df_deposit.drop(columns=['Balance'], inplace=True)\n",
    "\n",
    "for idx in range(len(df_deposit.index)):\n",
    "    text1 = str(df_deposit['Maxm_Balance'].iloc[idx])    \n",
    "    result = re.findall(\"[-+]?[.]?[\\d]+(?:,\\d\\d\\d)*[\\.]?\\d*(?:[eE][-+]?\\d+)?\", text1)\n",
    "    try:\n",
    "        df_deposit['Maxm_Balance'].iloc[idx] = result[0]\n",
    "    except IndexError:\n",
    "        df_deposit['Maxm_Balance'].iloc[idx] = np.NAN\n",
    "        \n",
    "    text2 = str(df_deposit['Minm_Balance'].iloc[idx])    \n",
    "    result = re.findall(\"[-+]?[.]?[\\d]+(?:,\\d\\d\\d)*[\\.]?\\d*(?:[eE][-+]?\\d+)?\", text2)\n",
    "    try:\n",
    "        df_deposit['Minm_Balance'].iloc[idx] = result[0]\n",
    "    except IndexError:\n",
    "        df_deposit['Minm_Balance'].iloc[idx] = np.NAN\n"
   ]
  },
  {
   "cell_type": "code",
   "execution_count": 39,
   "metadata": {},
   "outputs": [],
   "source": [
    "df_ticker = pd.read_csv(input_path+\"Bank_Ticker_UK.csv\")"
   ]
  },
  {
   "cell_type": "code",
   "execution_count": 40,
   "metadata": {},
   "outputs": [],
   "source": [
    "result = pd.merge(df_deposit, df_ticker, how='left', on='Bank_Name')"
   ]
  },
  {
   "cell_type": "code",
   "execution_count": 41,
   "metadata": {},
   "outputs": [],
   "source": [
    "arranged_cols = ['Date', 'Bank_Native_Country', 'State', 'Bank_Name','Ticker',\n",
    "       'Bank_Local_Currency', 'Bank_Type', 'Bank_Product', 'Bank_Product_Type','Bank_Product_Code',\n",
    "       'Bank_Product_Name', 'Minm_Balance','Maxm_Balance','Bank_Offer_Feature', 'Term in Months',\n",
    "       'Interest_Type', 'Interest', 'AER' ]\n",
    "df_deposit = result.reindex(columns= arranged_cols)\n",
    "df_deposit[\"Interest_Type\"] = \"Fixed\""
   ]
  },
  {
   "cell_type": "code",
   "execution_count": 42,
   "metadata": {},
   "outputs": [],
   "source": [
    "for idx in range(len(df_deposit.index)):   \n",
    "    if \"Savings\" in df_deposit['Bank_Product_Type'].iloc[idx]:\n",
    "        s = \"SB\"\n",
    "    elif \"Current\" in df_deposit['Bank_Product_Type'].iloc[idx]:\n",
    "        s = \"CC\"\n",
    "    else:\n",
    "        s = \"CD\"\n",
    "    try:\n",
    "        t = int(df_deposit['Term in Months'].iloc[idx])\n",
    "    except ValueError:\n",
    "        t = \"_\"        \n",
    "    df_deposit['Bank_Product_Code'].iloc[idx] = \"{0}{1}{2}{3}\".format(t,\"M\", s, df_deposit['Interest_Type'].iloc[idx][0])"
   ]
  },
  {
   "cell_type": "code",
   "execution_count": 44,
   "metadata": {},
   "outputs": [],
   "source": [
    "df_deposit[\"Minm_Balance\"] = df_deposit[\"Minm_Balance\"].str.replace(\",\",\"\")\n",
    "df_deposit[\"Maxm_Balance\"] = df_deposit[\"Maxm_Balance\"].str.replace(\",\",\"\")"
   ]
  },
  {
   "cell_type": "code",
   "execution_count": 46,
   "metadata": {},
   "outputs": [],
   "source": [
    "df_deposit.to_csv(output_path+\"UK\\\\\" + \"US_Deposits_Data_{}.csv\".format(now.strftime(\"%m_%d_%Y\")), index=False )"
   ]
  },
  {
   "cell_type": "code",
   "execution_count": null,
   "metadata": {},
   "outputs": [],
   "source": []
  }
 ],
 "metadata": {
  "kernelspec": {
   "display_name": "Python 3",
   "language": "python",
   "name": "python3"
  },
  "language_info": {
   "codemirror_mode": {
    "name": "ipython",
    "version": 3
   },
   "file_extension": ".py",
   "mimetype": "text/x-python",
   "name": "python",
   "nbconvert_exporter": "python",
   "pygments_lexer": "ipython3",
   "version": "3.6.4"
  }
 },
 "nbformat": 4,
 "nbformat_minor": 2
}
